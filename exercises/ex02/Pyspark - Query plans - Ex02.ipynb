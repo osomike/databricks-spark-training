{
 "cells": [
  {
   "cell_type": "markdown",
   "metadata": {
    "application/vnd.databricks.v1+cell": {
     "cellMetadata": {},
     "inputWidgets": {},
     "nuid": "4ab1b7bc-31b8-4546-bb5d-d84495141cc6",
     "showTitle": false,
     "tableResultSettingsMap": {},
     "title": ""
    }
   },
   "source": [
    "### Import libraries"
   ]
  },
  {
   "cell_type": "code",
   "execution_count": 0,
   "metadata": {
    "application/vnd.databricks.v1+cell": {
     "cellMetadata": {
      "byteLimit": 2048000,
      "rowLimit": 10000
     },
     "inputWidgets": {},
     "nuid": "3d11cf49-28dd-4242-8b88-026d4274fcc5",
     "showTitle": false,
     "tableResultSettingsMap": {},
     "title": ""
    }
   },
   "outputs": [],
   "source": [
    "import pyspark.sql.functions as F\n",
    "import pyspark.sql.types as T\n",
    "import datetime"
   ]
  },
  {
   "cell_type": "markdown",
   "metadata": {
    "application/vnd.databricks.v1+cell": {
     "cellMetadata": {},
     "inputWidgets": {},
     "nuid": "f230d29a-82ca-4288-87fa-c7c3a4361484",
     "showTitle": false,
     "tableResultSettingsMap": {},
     "title": ""
    }
   },
   "source": [
    "### Loading the New York's taxi datasets"
   ]
  },
  {
   "cell_type": "code",
   "execution_count": 0,
   "metadata": {
    "application/vnd.databricks.v1+cell": {
     "cellMetadata": {
      "byteLimit": 2048000,
      "rowLimit": 10000
     },
     "inputWidgets": {},
     "nuid": "9e12d9da-f905-471e-aa26-cb488f7e8f10",
     "showTitle": false,
     "tableResultSettingsMap": {},
     "title": ""
    }
   },
   "outputs": [],
   "source": [
    "df = spark.read.format('delta').load('/databricks-datasets/nyctaxi/tables/nyctaxi_yellow')\n",
    "p_df = spark.read.format('parquet').load('/mnt/dls/data/big/nyctaxi_yellow_partitioned')"
   ]
  },
  {
   "cell_type": "code",
   "execution_count": 0,
   "metadata": {
    "application/vnd.databricks.v1+cell": {
     "cellMetadata": {
      "byteLimit": 2048000,
      "rowLimit": 10000
     },
     "inputWidgets": {},
     "nuid": "d16031d0-4310-438d-ad1f-10a00b418d8b",
     "showTitle": false,
     "tableResultSettingsMap": {},
     "title": ""
    }
   },
   "outputs": [],
   "source": [
    "df.count()"
   ]
  },
  {
   "cell_type": "code",
   "execution_count": 0,
   "metadata": {
    "application/vnd.databricks.v1+cell": {
     "cellMetadata": {
      "byteLimit": 2048000,
      "rowLimit": 10000
     },
     "inputWidgets": {},
     "nuid": "88bd2d6e-1321-4ce8-b7e5-77f9a51c4dc9",
     "showTitle": false,
     "tableResultSettingsMap": {},
     "title": ""
    }
   },
   "outputs": [],
   "source": [
    "p_df.count()"
   ]
  },
  {
   "cell_type": "code",
   "execution_count": 0,
   "metadata": {
    "application/vnd.databricks.v1+cell": {
     "cellMetadata": {
      "byteLimit": 2048000,
      "rowLimit": 10000
     },
     "inputWidgets": {},
     "nuid": "e9f487e8-286d-41b4-a54b-02f29691034c",
     "showTitle": false,
     "tableResultSettingsMap": {},
     "title": ""
    }
   },
   "outputs": [],
   "source": [
    "p_df.display()"
   ]
  },
  {
   "cell_type": "code",
   "execution_count": 0,
   "metadata": {
    "application/vnd.databricks.v1+cell": {
     "cellMetadata": {
      "byteLimit": 2048000,
      "rowLimit": 10000
     },
     "inputWidgets": {},
     "nuid": "13c4f1b4-e580-41b0-984e-90960eaa76be",
     "showTitle": false,
     "tableResultSettingsMap": {},
     "title": ""
    }
   },
   "outputs": [],
   "source": [
    "# Define the data as lists\n",
    "vendors = ['VTS', 'CMT', 'DDS', 'VTS', 'CMT', 'DDS']\n",
    "payment_type = ['CASH', 'CASH', 'CASH', 'CREDIT', 'CREDIT', 'CREDIT']\n",
    "extra_col = ['A', 'B', 'C', 'D', 'E', 'F']\n",
    "\n",
    "# Define the schema of the dataframe\n",
    "schema = T.StructType([\n",
    "    T.StructField(\"vendor_id\", T.StringType(), False),\n",
    "    T.StructField(\"payment_type\", T.StringType(), False),\n",
    "    T.StructField(\"extra_col_from_m\", T.StringType(), False)\n",
    "])\n",
    "\n",
    "# Create a list of tuples\n",
    "data = [(vendors[i], payment_type[i], extra_col[i]) for i in range(len(vendors))]\n",
    "\n",
    "# Create a PySpark dataframe\n",
    "m_df = spark.createDataFrame(data, schema)\n",
    "m_df.display()"
   ]
  },
  {
   "cell_type": "code",
   "execution_count": 0,
   "metadata": {
    "application/vnd.databricks.v1+cell": {
     "cellMetadata": {
      "byteLimit": 2048000,
      "rowLimit": 10000
     },
     "inputWidgets": {},
     "nuid": "e46c4720-656e-4f43-8c35-ee87584e75f1",
     "showTitle": false,
     "tableResultSettingsMap": {},
     "title": ""
    }
   },
   "outputs": [],
   "source": [
    "p_joined_df_01 = p_df.join(other=m_df, how='inner', on = ['vendor_id', 'payment_type'])\n",
    "p_joined_df_01.explain(True)"
   ]
  },
  {
   "cell_type": "code",
   "execution_count": 0,
   "metadata": {
    "application/vnd.databricks.v1+cell": {
     "cellMetadata": {
      "byteLimit": 2048000,
      "rowLimit": 10000
     },
     "inputWidgets": {},
     "nuid": "e3883376-48e7-45e1-bc3f-cafb147b427b",
     "showTitle": false,
     "tableResultSettingsMap": {},
     "title": ""
    }
   },
   "outputs": [],
   "source": [
    "ts = datetime.datetime.now()\n",
    "output_file_path_partitioned = '/mnt/dls/results/oscar/merged-dataset-01'\n",
    "p_joined_df_01.write.format('parquet').mode('overwrite').save(output_file_path_partitioned)\n",
    "p_pt = (datetime.datetime.now() - ts).seconds\n",
    "print(f'The processing time was {p_pt} seconds')"
   ]
  },
  {
   "cell_type": "markdown",
   "metadata": {
    "application/vnd.databricks.v1+cell": {
     "cellMetadata": {},
     "inputWidgets": {},
     "nuid": "7740a8fb-d384-4abb-9efc-26fc72481892",
     "showTitle": false,
     "tableResultSettingsMap": {},
     "title": ""
    }
   },
   "source": [
    "### Join with hints"
   ]
  },
  {
   "cell_type": "code",
   "execution_count": 0,
   "metadata": {
    "application/vnd.databricks.v1+cell": {
     "cellMetadata": {
      "byteLimit": 2048000,
      "rowLimit": 10000
     },
     "inputWidgets": {},
     "nuid": "acbc9bbd-b88f-41f9-b04a-5076caa23410",
     "showTitle": false,
     "tableResultSettingsMap": {},
     "title": ""
    }
   },
   "outputs": [],
   "source": [
    "# READ: spark.sql.autoBroadcastJoinThreshold https://spark.apache.org/docs/latest/sql-performance-tuning.html#other-configuration-options\n",
    "# READ: Join Hints https://spark.apache.org/docs/latest/sql-ref-syntax-qry-select-hints.html#join-hints-types\n",
    "p_joined_df_02 = p_df.join(other=m_df.hint('broadcast'), how='inner', on = ['vendor_id', 'payment_type'])"
   ]
  },
  {
   "cell_type": "code",
   "execution_count": 0,
   "metadata": {
    "application/vnd.databricks.v1+cell": {
     "cellMetadata": {
      "byteLimit": 2048000,
      "rowLimit": 10000
     },
     "inputWidgets": {},
     "nuid": "59876c9b-4b81-4ee6-9e83-13f1637fb0cb",
     "showTitle": false,
     "tableResultSettingsMap": {},
     "title": ""
    }
   },
   "outputs": [],
   "source": [
    "p_joined_df_02.explain()"
   ]
  },
  {
   "cell_type": "code",
   "execution_count": 0,
   "metadata": {
    "application/vnd.databricks.v1+cell": {
     "cellMetadata": {
      "byteLimit": 2048000,
      "rowLimit": 10000
     },
     "inputWidgets": {},
     "nuid": "67404a5a-70cb-42d7-b4d8-86ba6019adbc",
     "showTitle": false,
     "tableResultSettingsMap": {},
     "title": ""
    }
   },
   "outputs": [],
   "source": [
    "ts = datetime.datetime.now()\n",
    "output_file_path_partitioned = '/mnt/dls/results/oscar/merged-dataset-02'\n",
    "p_joined_df_02.write.format('parquet').mode('overwrite').save(output_file_path_partitioned)\n",
    "p_pt = (datetime.datetime.now() - ts).seconds\n",
    "print(f'The processing time was {p_pt} seconds')"
   ]
  },
  {
   "cell_type": "markdown",
   "metadata": {
    "application/vnd.databricks.v1+cell": {
     "cellMetadata": {},
     "inputWidgets": {},
     "nuid": "7bf09e7a-e6bf-4a75-9c13-888cfc3738e2",
     "showTitle": false,
     "tableResultSettingsMap": {},
     "title": ""
    }
   },
   "source": [
    "### Join using the catalog"
   ]
  },
  {
   "cell_type": "code",
   "execution_count": 0,
   "metadata": {
    "application/vnd.databricks.v1+cell": {
     "cellMetadata": {
      "byteLimit": 2048000,
      "rowLimit": 10000
     },
     "inputWidgets": {},
     "nuid": "764d3a80-5ddc-4793-9e0e-1df9155953ea",
     "showTitle": false,
     "tableResultSettingsMap": {},
     "title": ""
    }
   },
   "outputs": [],
   "source": [
    "to_join_location = '/mnt/dls/results/oscar/to_join_data'\n",
    "m_df.write.format('parquet').mode('overwrite').save(to_join_location)"
   ]
  },
  {
   "cell_type": "code",
   "execution_count": 0,
   "metadata": {
    "application/vnd.databricks.v1+cell": {
     "cellMetadata": {
      "byteLimit": 2048000,
      "rowLimit": 10000
     },
     "inputWidgets": {},
     "nuid": "283fa483-2c76-41e9-94d6-7fc345938ac2",
     "showTitle": false,
     "tableResultSettingsMap": {},
     "title": ""
    }
   },
   "outputs": [],
   "source": [
    "spark_application_id = spark.sparkContext.applicationId.split('-')[-1]\n",
    "tmp_table_name = f'{spark_application_id}_oscar_tmp_table'\n",
    "tmp_table_name"
   ]
  },
  {
   "cell_type": "code",
   "execution_count": 0,
   "metadata": {
    "application/vnd.databricks.v1+cell": {
     "cellMetadata": {
      "byteLimit": 2048000,
      "rowLimit": 10000
     },
     "inputWidgets": {},
     "nuid": "c1889f67-a6c6-4388-8c08-e326aba4bf0d",
     "showTitle": false,
     "tableResultSettingsMap": {},
     "title": ""
    }
   },
   "outputs": [],
   "source": [
    "# Register table on the spark catalog\n",
    "spark.sql(f\"\"\"\n",
    "CREATE TABLE {tmp_table_name} (\n",
    "    vendor_id STRING,\n",
    "    payment_type STRING,\n",
    "    extra_col_from_m STRING\n",
    ")\n",
    "STORED AS PARQUET\n",
    "LOCATION '{to_join_location}'\n",
    "\"\"\")"
   ]
  },
  {
   "cell_type": "code",
   "execution_count": 0,
   "metadata": {
    "application/vnd.databricks.v1+cell": {
     "cellMetadata": {
      "byteLimit": 2048000,
      "rowLimit": 10000
     },
     "inputWidgets": {},
     "nuid": "fec934d8-b8ad-44f9-9940-1ce3cce50cf8",
     "showTitle": false,
     "tableResultSettingsMap": {},
     "title": ""
    }
   },
   "outputs": [],
   "source": [
    "# Make sure we obtain the metadata needed to fetch the size of this table only\n",
    "spark.sql(f'ANALYZE TABLE {tmp_table_name} COMPUTE STATISTICS')"
   ]
  },
  {
   "cell_type": "code",
   "execution_count": 0,
   "metadata": {
    "application/vnd.databricks.v1+cell": {
     "cellMetadata": {
      "byteLimit": 2048000,
      "rowLimit": 10000
     },
     "inputWidgets": {},
     "nuid": "e8f1cf81-de3f-49d4-aab1-d60fd2ff8093",
     "showTitle": false,
     "tableResultSettingsMap": {},
     "title": ""
    }
   },
   "outputs": [],
   "source": [
    "m_df_from_catalog = spark.sql(f'SELECT * FROM {tmp_table_name}')\n",
    "m_df_from_catalog.display()"
   ]
  },
  {
   "cell_type": "code",
   "execution_count": 0,
   "metadata": {
    "application/vnd.databricks.v1+cell": {
     "cellMetadata": {
      "byteLimit": 2048000,
      "rowLimit": 10000
     },
     "inputWidgets": {},
     "nuid": "cf22594d-a48f-452c-a13d-91026d61e080",
     "showTitle": false,
     "tableResultSettingsMap": {},
     "title": ""
    }
   },
   "outputs": [],
   "source": [
    "p_joined_df_03 = p_df.join(other=m_df_from_catalog, how='inner', on = ['vendor_id', 'payment_type'])"
   ]
  },
  {
   "cell_type": "code",
   "execution_count": 0,
   "metadata": {
    "application/vnd.databricks.v1+cell": {
     "cellMetadata": {
      "byteLimit": 2048000,
      "rowLimit": 10000
     },
     "inputWidgets": {},
     "nuid": "91e074b8-2b75-4e64-b05a-18a4fa1eabbd",
     "showTitle": false,
     "tableResultSettingsMap": {},
     "title": ""
    }
   },
   "outputs": [],
   "source": [
    "p_joined_df_03.explain()"
   ]
  },
  {
   "cell_type": "code",
   "execution_count": 0,
   "metadata": {
    "application/vnd.databricks.v1+cell": {
     "cellMetadata": {
      "byteLimit": 2048000,
      "rowLimit": 10000
     },
     "inputWidgets": {},
     "nuid": "5f18b080-a121-4f9a-a895-1bcbe312b7fc",
     "showTitle": false,
     "tableResultSettingsMap": {},
     "title": ""
    }
   },
   "outputs": [],
   "source": [
    "ts = datetime.datetime.now()\n",
    "output_file_path_partitioned = '/mnt/dls/results/oscar/merged-dataset-03'\n",
    "p_joined_df_03.write.format('parquet').mode('overwrite').save(output_file_path_partitioned)\n",
    "p_pt = (datetime.datetime.now() - ts).seconds\n",
    "print(f'The processing time was {p_pt} seconds')"
   ]
  },
  {
   "cell_type": "code",
   "execution_count": 0,
   "metadata": {
    "application/vnd.databricks.v1+cell": {
     "cellMetadata": {
      "byteLimit": 2048000,
      "rowLimit": 10000
     },
     "inputWidgets": {},
     "nuid": "9edeaa73-48c9-4da4-b3e7-4a63152922cb",
     "showTitle": false,
     "tableResultSettingsMap": {},
     "title": ""
    }
   },
   "outputs": [],
   "source": [
    "# Register table on the spark catalog\n",
    "spark.sql(f\"\"\"DROP TABLE {tmp_table_name}\"\"\")"
   ]
  }
 ],
 "metadata": {
  "application/vnd.databricks.v1+notebook": {
   "computePreferences": null,
   "dashboards": [],
   "environmentMetadata": {
    "base_environment": "",
    "environment_version": "2"
   },
   "inputWidgetPreferences": null,
   "language": "python",
   "notebookMetadata": {
    "pythonIndentUnit": 4
   },
   "notebookName": "Pyspark - Query plans - Ex02",
   "widgets": {}
  },
  "language_info": {
   "name": "python"
  }
 },
 "nbformat": 4,
 "nbformat_minor": 0
}
